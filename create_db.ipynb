{
 "cells": [
  {
   "cell_type": "code",
   "execution_count": 1,
   "metadata": {},
   "outputs": [],
   "source": [
    "import numpy as np\n",
    "import pandas as pd\n",
    "import glob\n",
    "import psycopg2\n",
    "from sql_queries import *\n",
    "from dwh import *"
   ]
  },
  {
   "cell_type": "markdown",
   "metadata": {},
   "source": [
    "# Intro\n",
    "\n",
    "Analyse a single .csv to get the column names and build the queries"
   ]
  },
  {
   "cell_type": "code",
   "execution_count": 2,
   "metadata": {},
   "outputs": [
    {
     "name": "stderr",
     "output_type": "stream",
     "text": [
      "/home/marta/anaconda3/lib/python3.7/site-packages/IPython/core/interactiveshell.py:3058: DtypeWarning: Columns (77,84,85) have mixed types.Specify dtype option on import or set low_memory=False.\n",
      "  interactivity=interactivity, compiler=compiler, result=result)\n"
     ]
    }
   ],
   "source": [
    "df = pd.read_csv('./data/1/1.csv')  "
   ]
  },
  {
   "cell_type": "code",
   "execution_count": 3,
   "metadata": {},
   "outputs": [],
   "source": [
    "df['ID_KEY'] = str(df['MONTH'].values[0])+'_'+df.index.map(str)"
   ]
  },
  {
   "cell_type": "code",
   "execution_count": 4,
   "metadata": {},
   "outputs": [],
   "source": [
    "df = df.rename(columns={'YEAR':'FL_YEAR','QUARTER':'FL_QUARTER','MONTH':'FL_MONTH','Unnamed: 109':'UNNAMED'})"
   ]
  },
  {
   "cell_type": "markdown",
   "metadata": {},
   "source": [
    "## INSERT query\n",
    "Build an insert query for the staging table, which contains all the info in the .csv file"
   ]
  },
  {
   "cell_type": "code",
   "execution_count": 5,
   "metadata": {},
   "outputs": [],
   "source": [
    "columns = list(df.columns)\n",
    "query=\"\\n INSERT INTO staging ( \"\n",
    "end=\") VALUES (\"\n",
    "for el in columns:\n",
    "    query+=\" \\n \"+el+\",\"\n",
    "    end+=\"%s,\"\n",
    "insert_query = query[:-1]+end[:-1]+\") ON CONFLICT ON CONSTRAINT staging_pkey DO NOTHING\\n\""
   ]
  },
  {
   "cell_type": "markdown",
   "metadata": {},
   "source": [
    "# Create DB, staging table and fill it"
   ]
  },
  {
   "cell_type": "code",
   "execution_count": 6,
   "metadata": {},
   "outputs": [],
   "source": [
    "def create_database(dropdb=False):\n",
    "    '''\n",
    "    Function to create the DB\n",
    "     Key arg: dropdb. Default is False\n",
    "    \n",
    "     - connect to the db\n",
    "     - drop DB if exists \n",
    "     - create DB\n",
    " \n",
    "    Returns a cursor and a connection to the DB\n",
    "    '''\n",
    "    conn = psycopg2.connect(\"host={} dbname={} user={} password={}\".format(myhost,mydb,myuser,mypass))\n",
    "    conn.autocommit = True\n",
    "    cur = conn.cursor()\n",
    "    if dropdb:\n",
    "        cur.execute(\"DROP DATABASE IF EXISTS planesdb\")\n",
    "        cur.execute(\"CREATE DATABASE planesdb WITH ENCODING 'utf8' TEMPLATE template0\")\n",
    "    \n",
    "    conn.close()\n",
    "    conn = psycopg2.connect(\"host={} dbname=planesdb user={} password={}\".format(myhost,myuser,mypass))\n",
    "    cur = conn.cursor()\n",
    "    \n",
    "    return cur, conn"
   ]
  },
  {
   "cell_type": "code",
   "execution_count": 7,
   "metadata": {},
   "outputs": [],
   "source": [
    "cur, conn = create_database()"
   ]
  },
  {
   "cell_type": "markdown",
   "metadata": {},
   "source": [
    "Drops the table if it exists and creates it again"
   ]
  },
  {
   "cell_type": "code",
   "execution_count": 8,
   "metadata": {},
   "outputs": [],
   "source": [
    "def create_table():\n",
    "    '''\n",
    "    Function to create the table\n",
    "     - drop table if exists\n",
    "     - create table\n",
    "    '''\n",
    "    cur.execute(staging_table_drop)\n",
    "    cur.execute(staging_table)\n",
    "    conn.commit()"
   ]
  },
  {
   "cell_type": "code",
   "execution_count": 9,
   "metadata": {},
   "outputs": [],
   "source": [
    "# CAREFUL!! creating the staging table erases it first, if it already exists...and refilling it will take looong\n",
    "# create_table()"
   ]
  },
  {
   "cell_type": "markdown",
   "metadata": {},
   "source": [
    "Fills in the table from the .csv file."
   ]
  },
  {
   "cell_type": "code",
   "execution_count": 10,
   "metadata": {},
   "outputs": [],
   "source": [
    "def insert_csv(path, test=False):\n",
    "    '''\n",
    "    Function to fill in the staging table\n",
    "    Key args: \n",
    "    - path: the path to the csv file\n",
    "    - test: if True, does not iterate over the whole csv but only over the first 5 rows\n",
    "    '''\n",
    "    df = pd.read_csv(path)  \n",
    "    df['ID_KEY'] = str(df['MONTH'].values[0])+'_'+df.index.map(str)\n",
    "    df = df.rename(columns={'YEAR':'FL_YEAR','QUARTER':'FL_QUARTER','MONTH':'FL_MONTH','Unnamed: 109':'UNNAMED'})\n",
    "    if test:\n",
    "        df = df.head()\n",
    "    for index, row in df.iterrows():\n",
    "        #could probably do it better\n",
    "        values = [value if (type(value)==str or type(value)==float) else value.item() for value in df.iloc[index,:].values]\n",
    "        cur.execute(insert_query,values)\n",
    "        conn.commit()"
   ]
  },
  {
   "cell_type": "code",
   "execution_count": 11,
   "metadata": {},
   "outputs": [],
   "source": [
    "refill = False\n",
    "\n",
    "if refill==True:\n",
    "    path = r'./data/all' # use your path\n",
    "    all_files = glob.glob(path + \"/*.csv\")\n",
    "\n",
    "    li = []\n",
    "    \n",
    "    for filename in all_files:\n",
    "        print(filename)\n",
    "        insert_csv(filename)"
   ]
  },
  {
   "cell_type": "markdown",
   "metadata": {},
   "source": [
    "# Rearrange the DB\n",
    "Rearranging the DB to the star schema, as explained in the README."
   ]
  },
  {
   "cell_type": "code",
   "execution_count": 12,
   "metadata": {},
   "outputs": [],
   "source": [
    "def drop_star_tables():\n",
    "    '''\n",
    "    Function to create the tables of the star schema DB. For each table:\n",
    "     - drop table if exists\n",
    "     - create table\n",
    "    '''\n",
    "    for query in drop_table_queries:\n",
    "        cur.execute(query)\n",
    "        conn.commit()"
   ]
  },
  {
   "cell_type": "code",
   "execution_count": 13,
   "metadata": {},
   "outputs": [],
   "source": [
    "# drop_star_tables()"
   ]
  },
  {
   "cell_type": "code",
   "execution_count": 14,
   "metadata": {},
   "outputs": [],
   "source": [
    "def create_star_tables():\n",
    "    '''\n",
    "    Function to create the tables of the star schema DB. For each table:\n",
    "     - drop table if exists\n",
    "     - create table\n",
    "    '''\n",
    "    for query in create_table_queries:\n",
    "        cur.execute(query)\n",
    "        conn.commit()"
   ]
  },
  {
   "cell_type": "code",
   "execution_count": 15,
   "metadata": {},
   "outputs": [],
   "source": [
    "# create_star_tables()"
   ]
  },
  {
   "cell_type": "code",
   "execution_count": 16,
   "metadata": {},
   "outputs": [],
   "source": [
    "def fill_star_tables():\n",
    "    '''\n",
    "    Function to create the tables of the star schema DB. For each table:\n",
    "     - drop table if exists\n",
    "     - create table\n",
    "    '''\n",
    "    for query in insert_queries:\n",
    "        cur.execute(query)\n",
    "        conn.commit()"
   ]
  },
  {
   "cell_type": "code",
   "execution_count": 17,
   "metadata": {},
   "outputs": [],
   "source": [
    "# fill_star_tables()"
   ]
  },
  {
   "cell_type": "code",
   "execution_count": 18,
   "metadata": {},
   "outputs": [],
   "source": [
    "conn.commit()"
   ]
  },
  {
   "cell_type": "code",
   "execution_count": 19,
   "metadata": {},
   "outputs": [],
   "source": [
    "# conn.close()"
   ]
  }
 ],
 "metadata": {
  "kernelspec": {
   "display_name": "Python 3",
   "language": "python",
   "name": "python3"
  },
  "language_info": {
   "codemirror_mode": {
    "name": "ipython",
    "version": 3
   },
   "file_extension": ".py",
   "mimetype": "text/x-python",
   "name": "python",
   "nbconvert_exporter": "python",
   "pygments_lexer": "ipython3",
   "version": "3.7.4"
  }
 },
 "nbformat": 4,
 "nbformat_minor": 4
}
