{
 "cells": [
  {
   "cell_type": "markdown",
   "metadata": {},
   "source": [
    "# Create tables for the SFO analysis\n",
    "# First get rid of the NaN in the delays"
   ]
  },
  {
   "cell_type": "code",
   "execution_count": null,
   "metadata": {},
   "outputs": [],
   "source": [
    "%%sql\n",
    "UPDATE flights \n",
    "SET carrier_delay='0'\n",
    "WHERE carrier_delay='NaN';\n",
    "\n",
    "UPDATE flights \n",
    "SET weather_delay='0'\n",
    "WHERE weather_delay='NaN';\n",
    "\n",
    "UPDATE flights \n",
    "SET nas_delay='0'\n",
    "WHERE nas_delay='NaN';\n",
    "\n",
    "UPDATE flights \n",
    "SET security_delay='0'\n",
    "WHERE security_delay='NaN';\n",
    "\n",
    "UPDATE flights \n",
    "SET late_aircraft_delay='0'\n",
    "WHERE late_aircraft_delay='NaN';"
   ]
  },
  {
   "cell_type": "markdown",
   "metadata": {},
   "source": [
    "# Then create a table containing only data on SFO departures\n",
    "This way the DB is no longer in standard forms, but we do not have to SELECT for each query and queries will run quicker"
   ]
  },
  {
   "cell_type": "code",
   "execution_count": null,
   "metadata": {},
   "outputs": [],
   "source": [
    "%%sql\n",
    "CREATE TABLE IF NOT EXISTS sfo (\n",
    "    ID_KEY VARCHAR NOT NULL PRIMARY KEY,\n",
    "    FL_DATE                  VARCHAR, \n",
    "    OP_UNIQUE_CARRIER        VARCHAR, \n",
    "    TAIL_NUM                 VARCHAR, \n",
    "    OP_CARRIER_FL_NUM        BIGINT,\n",
    "    ORIGIN_AIRPORT_ID        BIGINT,  \n",
    "    DEST_AIRPORT_ID          BIGINT, \n",
    "    CANCELLED                FLOAT,\n",
    "    CANCELLATION_CODE        VARCHAR, \n",
    "    DIVERTED                 FLOAT,\n",
    "    CARRIER_DELAY            FLOAT,\n",
    "    WEATHER_DELAY            FLOAT,\n",
    "    NAS_DELAY                FLOAT,\n",
    "    SECURITY_DELAY           FLOAT,\n",
    "    LATE_AIRCRAFT_DELAY      FLOAT );"
   ]
  },
  {
   "cell_type": "code",
   "execution_count": null,
   "metadata": {},
   "outputs": [],
   "source": [
    "%%sql\n",
    "INSERT INTO sfo (\n",
    "    ID_KEY  ,\n",
    "    FL_DATE                  , \n",
    "    OP_UNIQUE_CARRIER        , \n",
    "    TAIL_NUM                 , \n",
    "    OP_CARRIER_FL_NUM        ,\n",
    "    ORIGIN_AIRPORT_ID        ,  \n",
    "    DEST_AIRPORT_ID          , \n",
    "    CANCELLED                ,\n",
    "    CANCELLATION_CODE        , \n",
    "    DIVERTED                 ,\n",
    "    CARRIER_DELAY            ,\n",
    "    WEATHER_DELAY            ,\n",
    "    NAS_DELAY                ,\n",
    "    SECURITY_DELAY           ,\n",
    "    LATE_AIRCRAFT_DELAY\n",
    ")\n",
    "SELECT \n",
    "    ID_KEY  ,\n",
    "    FL_DATE                  , \n",
    "    OP_UNIQUE_CARRIER        , \n",
    "    TAIL_NUM                 , \n",
    "    OP_CARRIER_FL_NUM        ,\n",
    "    ORIGIN_AIRPORT_ID        ,  \n",
    "    DEST_AIRPORT_ID          , \n",
    "    CANCELLED                ,\n",
    "    CANCELLATION_CODE        , \n",
    "    DIVERTED                 ,\n",
    "    CARRIER_DELAY            ,\n",
    "    WEATHER_DELAY            ,\n",
    "    NAS_DELAY                ,\n",
    "    SECURITY_DELAY           ,\n",
    "    LATE_AIRCRAFT_DELAY\n",
    "FROM flights\n",
    "WHERE origin_airport_id=(\n",
    "    SELECT airport_id FROM airports\n",
    "    WHERE airport='SFO' )\n",
    "ON CONFLICT ON CONSTRAINT sfo_pkey\n",
    "DO NOTHING;"
   ]
  }
 ],
 "metadata": {
  "kernelspec": {
   "display_name": "Python 3",
   "language": "python",
   "name": "python3"
  },
  "language_info": {
   "codemirror_mode": {
    "name": "ipython",
    "version": 3
   },
   "file_extension": ".py",
   "mimetype": "text/x-python",
   "name": "python",
   "nbconvert_exporter": "python",
   "pygments_lexer": "ipython3",
   "version": "3.7.4"
  }
 },
 "nbformat": 4,
 "nbformat_minor": 4
}
